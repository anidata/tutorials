{
 "cells": [
  {
   "cell_type": "markdown",
   "metadata": {},
   "source": [
    "This notebook covers setting up a simple Google Cloude compute instances to host a Docker container."
   ]
  },
  {
   "cell_type": "markdown",
   "metadata": {},
   "source": [
    "## Pre-requisites\n",
    "\n",
    "* Google Cloud account\n",
    "* Docker Hub account (optionally, for uploading your own image)"
   ]
  },
  {
   "cell_type": "markdown",
   "metadata": {},
   "source": [
    "## Instructions"
   ]
  },
  {
   "cell_type": "markdown",
   "metadata": {},
   "source": [
    "### Step 1\n",
    "Sign in to Google Cloud Compute, https://console.cloud.google.com/compute\n",
    "![Google Cloud Home](images/gcloud-1.png)"
   ]
  },
  {
   "cell_type": "markdown",
   "metadata": {},
   "source": [
    "### Step 2\n",
    "Create a VM with the following configurations\n",
    "![Creating a VM](images/gcloud-2.png)"
   ]
  },
  {
   "cell_type": "markdown",
   "metadata": {},
   "source": [
    "### Step 3\n",
    "Login to the VM instance. You can do using the web-based client or SSH.\n",
    "\n",
    "If you login via the web-based client, you should see something similiar to this\n",
    "\n",
    "![Terminal web client](images/gcloud-3.png)"
   ]
  },
  {
   "cell_type": "markdown",
   "metadata": {},
   "source": [
    "### Step 4\n",
    "Run a Docker image. For example:\n",
    "\n",
    "\n",
    "```\n",
    "$ docker run hello-world\n",
    "```\n",
    "\n",
    "You could also run Docker images built in other Jupyter notebooks."
   ]
  }
 ],
 "metadata": {
  "kernelspec": {
   "display_name": "Python 3",
   "language": "python",
   "name": "python3"
  },
  "language_info": {
   "codemirror_mode": {
    "name": "ipython",
    "version": 3
   },
   "file_extension": ".py",
   "mimetype": "text/x-python",
   "name": "python",
   "nbconvert_exporter": "python",
   "pygments_lexer": "ipython3",
   "version": "3.6.2"
  }
 },
 "nbformat": 4,
 "nbformat_minor": 2
}
